{
 "cells": [
  {
   "cell_type": "code",
   "execution_count": 4,
   "id": "6bf2ab88",
   "metadata": {},
   "outputs": [
    {
     "name": "stdout",
     "output_type": "stream",
     "text": [
      "Enter the number: 12\n",
      "1 2 3 4 5 6 7 8 9 10 11 12 "
     ]
    }
   ],
   "source": [
    "#Write a PYTHON program to print the natural numbers up to n\n",
    "num = int(input(\"Enter the number: \"))\n",
    "i = 1\n",
    "while(i<=num):\n",
    "    print(i, end =' ') # end = ' ' will print everything in same line\n",
    "    i+=1"
   ]
  },
  {
   "cell_type": "code",
   "execution_count": 5,
   "id": "0a1961f7",
   "metadata": {},
   "outputs": [
    {
     "name": "stdout",
     "output_type": "stream",
     "text": [
      "Enter the number: 9\n",
      "0 2 4 6 8 "
     ]
    }
   ],
   "source": [
    "#Write a PYTHON program to print even numbers up to n\n",
    "num = int(input(\"Enter the number: \"))\n",
    "i = 0\n",
    "while (i <=num):\n",
    "    if(i%2==0):\n",
    "        print(i, end=\" \")\n",
    "        i +=1\n",
    "    else:\n",
    "        i +=1"
   ]
  },
  {
   "cell_type": "code",
   "execution_count": 6,
   "id": "2a2bcb9e",
   "metadata": {},
   "outputs": [
    {
     "name": "stdout",
     "output_type": "stream",
     "text": [
      "Enter the number: 19\n",
      "1 3 5 7 9 11 13 15 17 19 "
     ]
    }
   ],
   "source": [
    "#Write a PYTHON program to print odd numbers up to n\n",
    "num = int(input(\"Enter the number: \"))\n",
    "i = 0\n",
    "while (i <=num):\n",
    "    if(i%2!=0):\n",
    "        print(i, end =\" \")\n",
    "        i +=1\n",
    "    else:\n",
    "        i+=1"
   ]
  },
  {
   "cell_type": "code",
   "execution_count": 26,
   "id": "19dccb73",
   "metadata": {},
   "outputs": [
    {
     "name": "stdout",
     "output_type": "stream",
     "text": [
      "Enter the number: 9\n",
      "1 2 3 4 5 6 7 8 9 10 \n",
      "Total of first 9 number is be 45\n"
     ]
    }
   ],
   "source": [
    "#Write a PYTHON program to print sum of natural numbers up to n.\n",
    "\n",
    "num =int(input(\"Enter the number: \"))\n",
    "total = 0\n",
    "i = 0\n",
    "while (i<=num):\n",
    "    total =total+i\n",
    "    i+=1\n",
    "    print(i, end =\" \")\n",
    "print(\"\\nTotal of first\", num, \"number is \", total)"
   ]
  },
  {
   "cell_type": "code",
   "execution_count": 34,
   "id": "5c26d190",
   "metadata": {},
   "outputs": [
    {
     "name": "stdout",
     "output_type": "stream",
     "text": [
      "Enter the number: 9\n",
      "1 3 5 7 9 \n",
      "Total of odd numbers up to 9 is 25\n"
     ]
    }
   ],
   "source": [
    "#Write a PYTHON program to print sum of odd numbers up to n\n",
    "num=int(input(\"Enter the number: \"))\n",
    "total = 0\n",
    "i = 0\n",
    "while(i<=num):\n",
    "    if(i %2!=0):\n",
    "        total +=i\n",
    "        print(i, end=\" \")\n",
    "    i+=1\n",
    "print(\"\\nTotal of odd numbers up to\", num, \"is\", total)"
   ]
  },
  {
   "cell_type": "code",
   "execution_count": 35,
   "id": "c7d7b49a",
   "metadata": {},
   "outputs": [
    {
     "name": "stdout",
     "output_type": "stream",
     "text": [
      "Enter the number: 9\n",
      "0 2 4 6 8 \n",
      "Total of even numbers up to 9 is 20\n"
     ]
    }
   ],
   "source": [
    "#Write a PYTHON program to print sum of even numbers up to n\n",
    "num=int(input(\"Enter the number: \"))\n",
    "total = 0\n",
    "i = 0\n",
    "while(i<=num):\n",
    "    if(i %2==0):\n",
    "        total +=i\n",
    "        print(i, end=\" \")\n",
    "    i+=1\n",
    "print(\"\\nTotal of even numbers up to\", num, \"is\", total)"
   ]
  },
  {
   "cell_type": "code",
   "execution_count": 42,
   "id": "d6a889c2",
   "metadata": {},
   "outputs": [
    {
     "name": "stdout",
     "output_type": "stream",
     "text": [
      "Enter the number: 9\n",
      "9 8 7 6 5 4 3 2 1 "
     ]
    }
   ],
   "source": [
    "#Write a PYTHON program to print natural numbers up to n in reverse order.\n",
    "num=int(input(\"Enter the number: \"))\n",
    "i=num\n",
    "while(i>0):\n",
    "    print(i, end=\" \")\n",
    "    i=i-1"
   ]
  },
  {
   "cell_type": "code",
   "execution_count": 107,
   "id": "877c3abc",
   "metadata": {},
   "outputs": [
    {
     "name": "stdout",
     "output_type": "stream",
     "text": [
      "Enter the number: 12\n",
      "0\n",
      "1\n",
      "1\n",
      "2\n",
      "3\n",
      "5\n",
      "8\n",
      "13\n",
      "21\n",
      "34\n",
      "55\n",
      "89\n",
      "144\n"
     ]
    }
   ],
   "source": [
    "#Write a PYTHON program to print Fibonacci series up to n\n",
    "num=int(input(\"Enter the number: \"))\n",
    "n1 = 0\n",
    "n2 = 1\n",
    "nextNum = 0\n",
    "i=0\n",
    "\n",
    "while(i <= num):\n",
    "    print(n1)\n",
    "    nextNum = n1+n2\n",
    "    n1 =n2\n",
    "    n2=nextNum\n",
    "    i+=1"
   ]
  },
  {
   "cell_type": "code",
   "execution_count": 119,
   "id": "66eab489",
   "metadata": {},
   "outputs": [
    {
     "name": "stdout",
     "output_type": "stream",
     "text": [
      "Enter the number: 5\n",
      "Factorial of given number is: 120\n"
     ]
    }
   ],
   "source": [
    "#Write a PYTHON program  find a factorial of given number.\n",
    "num=int(input(\"Enter the number: \"))\n",
    "i=1\n",
    "fac=1\n",
    "while(i<=num):\n",
    "    fac=fac*i\n",
    "    i+=1\n",
    "print(\"Factorial of given number is:\",fac)"
   ]
  },
  {
   "cell_type": "code",
   "execution_count": 46,
   "id": "45369c4e",
   "metadata": {},
   "outputs": [
    {
     "name": "stdout",
     "output_type": "stream",
     "text": [
      "Enter the number:(number should be grater than 1) 23\n",
      "23 is PRIME number\n"
     ]
    }
   ],
   "source": [
    "#Write a PYTHON program to check the entered number is prime or not\n",
    "num=int(input(\"Enter the number:(number should be grater than 1) \"))\n",
    "i=2\n",
    "while(i<=num):\n",
    "    if(num%i==0):\n",
    "        print(num,\"is NOT PRIME number\")\n",
    "        i+=1\n",
    "        break\n",
    "    else:\n",
    "        print(num,\"is PRIME number\")\n",
    "        break"
   ]
  },
  {
   "cell_type": "code",
   "execution_count": 120,
   "id": "5284d9fc",
   "metadata": {},
   "outputs": [
    {
     "name": "stdout",
     "output_type": "stream",
     "text": [
      "Enter the number: 7821\n",
      "Total sum of digits is:  18\n"
     ]
    }
   ],
   "source": [
    "#Write a PYTHON program to find the sum of digits of given number\n",
    "num=int(input(\"Enter the number: \"))\n",
    "i=0\n",
    "suma=0\n",
    "while(i<=num):\n",
    "    dig = num%10\n",
    "    suma=suma+dig\n",
    "    num=num//10\n",
    "    i+=1\n",
    "print(\"Total sum of digits is: \", suma)"
   ]
  },
  {
   "cell_type": "code",
   "execution_count": 106,
   "id": "62b5afd3",
   "metadata": {},
   "outputs": [
    {
     "name": "stdout",
     "output_type": "stream",
     "text": [
      "Enter the number: 987789\n",
      "Reverse number is: 987789\n",
      "987789 is Palindrome\n"
     ]
    }
   ],
   "source": [
    "#Write a PYTHON program to check the entered  number is palindrome or not\n",
    "num=int(input(\"Enter the number: \"))\n",
    "temp=num\n",
    "reverse=0\n",
    "while(num>0):\n",
    "    remainder=num%10\n",
    "    reverse=reverse*10+remainder\n",
    "    num=num//10\n",
    "print(\"Reverse number is:\",reverse)\n",
    "if(reverse==temp):\n",
    "    print(temp,\"is Palindrome\")\n",
    "else:\n",
    "    print(temp,\"is not Palindrome\")"
   ]
  },
  {
   "cell_type": "code",
   "execution_count": 121,
   "id": "f27d8ea4",
   "metadata": {},
   "outputs": [
    {
     "name": "stdout",
     "output_type": "stream",
     "text": [
      "Enter the number: 4537892\n",
      "Reverse number is: 2987354\n"
     ]
    }
   ],
   "source": [
    "#Write a PYTHON program to reverse the given number.\n",
    "num=int(input(\"Enter the number: \"))\n",
    "reverse=0\n",
    "while(num>0):\n",
    "    remainder=num%10\n",
    "    reverse=reverse*10+remainder\n",
    "    num=num//10\n",
    "print(\"Reverse number is:\",reverse)"
   ]
  },
  {
   "cell_type": "code",
   "execution_count": 9,
   "id": "df61beb5",
   "metadata": {},
   "outputs": [
    {
     "name": "stdout",
     "output_type": "stream",
     "text": [
      "Enter the number for multipalcation table: 12\n",
      "12 * 1 = 12\n",
      "12 * 2 = 24\n",
      "12 * 3 = 36\n",
      "12 * 4 = 48\n",
      "12 * 5 = 60\n",
      "12 * 6 = 72\n",
      "12 * 7 = 84\n",
      "12 * 8 = 96\n",
      "12 * 9 = 108\n",
      "12 * 10 = 120\n"
     ]
    }
   ],
   "source": [
    "# Write a PYTHON program to print the multiplication table\n",
    "num=int(input(\"Enter the number for multipalcation table: \"))\n",
    "i=1\n",
    "while(i<=10):\n",
    "    print(num, \"*\", i, \"=\",num*i)\n",
    "    i+=1"
   ]
  },
  {
   "cell_type": "code",
   "execution_count": 13,
   "id": "f2040593",
   "metadata": {},
   "outputs": [
    {
     "name": "stdout",
     "output_type": "stream",
     "text": [
      "Enter the number: 4\n",
      "Enter 1 number:23\n",
      "Enter 2 number:54\n",
      "Enter 3 number:78\n",
      "Enter 4 number:1\n",
      "Largest number is:  78\n"
     ]
    }
   ],
   "source": [
    "#Write a PYTHON program to print the largest of n numbers\n",
    "listNum=[]\n",
    "num =int(input(\"Enter the number: \"))\n",
    "i =1\n",
    "while(i<=num):\n",
    "    e=int(input(f\"Enter {i} number:\"))\n",
    "    listNum.append(e)\n",
    "    i +=1\n",
    "print(\"Largest number is: \",max(listNum))"
   ]
  },
  {
   "cell_type": "code",
   "execution_count": 17,
   "id": "c584a919",
   "metadata": {},
   "outputs": [
    {
     "name": "stdout",
     "output_type": "stream",
     "text": [
      "Enter the number: 5\n",
      "Enter 1 number:-3\n",
      "Enter 2 number:4\n",
      "Enter 3 number:0\n",
      "Enter 4 number:6\n",
      "Enter 5 number:5\n",
      "Smallest number is:  -3\n"
     ]
    }
   ],
   "source": [
    "#Write a PYTHON program to print smallest of n numbers\n",
    "listNum=[]\n",
    "num =int(input(\"Enter the number: \"))\n",
    "i =1\n",
    "while(i<=num):\n",
    "    e=int(input(f\"Enter {i} number:\"))\n",
    "    listNum.append(e)\n",
    "    i +=1\n",
    "print(\"Smallest number is: \",min(listNum))"
   ]
  },
  {
   "cell_type": "markdown",
   "id": "978c2068",
   "metadata": {},
   "source": []
  }
 ],
 "metadata": {
  "kernelspec": {
   "display_name": "Python 3 (ipykernel)",
   "language": "python",
   "name": "python3"
  },
  "language_info": {
   "codemirror_mode": {
    "name": "ipython",
    "version": 3
   },
   "file_extension": ".py",
   "mimetype": "text/x-python",
   "name": "python",
   "nbconvert_exporter": "python",
   "pygments_lexer": "ipython3",
   "version": "3.9.7"
  }
 },
 "nbformat": 4,
 "nbformat_minor": 5
}
