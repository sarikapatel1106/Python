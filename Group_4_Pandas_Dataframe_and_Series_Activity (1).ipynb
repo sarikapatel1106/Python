{
 "cells": [
  {
   "cell_type": "markdown",
   "id": "36a06bc4",
   "metadata": {},
   "source": [
    "1.     Write a Pandas program to add, subtract, multiple and divide two Pandas Series.\n",
    "Sample Series: [2, 4, 6, 8, 10], [1, 3, 5, 7, 9]"
   ]
  },
  {
   "cell_type": "code",
   "execution_count": 1,
   "id": "cf95cd1b",
   "metadata": {},
   "outputs": [
    {
     "name": "stdout",
     "output_type": "stream",
     "text": [
      "Addition of two series is: \n",
      " 0     3\n",
      "1     7\n",
      "2    11\n",
      "3    15\n",
      "4    19\n",
      "dtype: int64\n",
      "Multiplication of two series is: \n",
      " 0     2\n",
      "1    12\n",
      "2    30\n",
      "3    56\n",
      "4    90\n",
      "dtype: int64\n",
      "Subtraction of two series is: \n",
      " 0    1\n",
      "1    1\n",
      "2    1\n",
      "3    1\n",
      "4    1\n",
      "dtype: int64\n",
      "Division of two series is: \n",
      " 0    2.000000\n",
      "1    1.333333\n",
      "2    1.200000\n",
      "3    1.142857\n",
      "4    1.111111\n",
      "dtype: float64\n"
     ]
    }
   ],
   "source": [
    "import pandas as pd\n",
    "import numpy as np\n",
    "ps1=pd.Series([2,4,6,8,10])\n",
    "ps2=pd.Series([1,3,5,7,9])\n",
    "addition=ps1+ps2\n",
    "print(\"Addition of two series is: \\n\",addition)\n",
    "multiplication=ps1*ps2\n",
    "print(\"Multiplication of two series is: \\n\",multiplication)\n",
    "subtraction=ps1-ps2\n",
    "print(\"Subtraction of two series is: \\n\",subtraction)\n",
    "division=ps1/ps2\n",
    "print(\"Division of two series is: \\n\",division)"
   ]
  },
  {
   "cell_type": "markdown",
   "id": "9f09ad6c",
   "metadata": {},
   "source": [
    "2.     Write a Pandas program to convert a Panda module Series to Python list and its type."
   ]
  },
  {
   "cell_type": "code",
   "execution_count": 7,
   "id": "5c257559",
   "metadata": {},
   "outputs": [
    {
     "name": "stdout",
     "output_type": "stream",
     "text": [
      "Panda Series is: \n",
      " 0    3\n",
      "1    5\n",
      "2    7\n",
      "3    2\n",
      "4    9\n",
      "5    7\n",
      "dtype: int64\n",
      "Type of Panda Series is: \n",
      " <class 'pandas.core.series.Series'>\n",
      "List is: \n",
      " [3, 5, 7, 2, 9, 7]\n",
      "Type of List is: \n",
      " <class 'list'>\n"
     ]
    }
   ],
   "source": [
    "ps1=pd.Series([3,5,7,2,9,7])\n",
    "print(\"Panda Series is: \\n\",ps1)\n",
    "print(\"Type of Panda Series is: \\n\",type(ps1))\n",
    "list1=ps1.tolist()\n",
    "print(\"List is: \\n\",list1)\n",
    "print(\"Type of List is: \\n\",type(list1))"
   ]
  },
  {
   "cell_type": "markdown",
   "id": "dc34afbf",
   "metadata": {},
   "source": [
    "3. Write a Pandas program to convert a Series of lists to one Series.\n",
    "Original Series of list\n",
    "0 [Red, Green, White]\n",
    "1 [Red, Black]\n",
    "2 [Yellow]"
   ]
  },
  {
   "cell_type": "code",
   "execution_count": 2,
   "id": "8ca54884",
   "metadata": {},
   "outputs": [
    {
     "name": "stdout",
     "output_type": "stream",
     "text": [
      "Panda Series is: \n",
      " 0    [Red, Green, White]\n",
      "1           [Red, Black]\n",
      "2               [Yellow]\n",
      "dtype: object\n",
      "Combined Series is: \n",
      " 0       Red\n",
      "1     Green\n",
      "2     White\n",
      "3       Red\n",
      "4     Black\n",
      "5    Yellow\n",
      "dtype: object\n"
     ]
    }
   ],
   "source": [
    "ps=pd.Series([['Red','Green','White'],['Red','Black'],['Yellow']])\n",
    "print(\"Panda Series is: \\n\",ps)\n",
    "oneSeries = ps.apply(pd.Series).stack().reset_index(drop=True)\n",
    "print(\"Combined Series is: \\n\",oneSeries)"
   ]
  },
  {
   "cell_type": "markdown",
   "id": "535105a9",
   "metadata": {},
   "source": [
    "4.     Write a Pandas program to create the mean and standard deviation of the data of a given Series. "
   ]
  },
  {
   "cell_type": "code",
   "execution_count": 16,
   "id": "53e552da",
   "metadata": {},
   "outputs": [
    {
     "name": "stdout",
     "output_type": "stream",
     "text": [
      "Panda Series is: \n",
      " 0    3\n",
      "1    0\n",
      "2    5\n",
      "3    8\n",
      "4    1\n",
      "5    9\n",
      "6    3\n",
      "7    7\n",
      "8    2\n",
      "9    6\n",
      "dtype: int64\n",
      "Mean of the data series is 4.4\n",
      "Standard deviation of the data series is 3.062315754094894\n"
     ]
    }
   ],
   "source": [
    "ps=pd.Series([3,0,5,8,1,9,3,7,2,6])\n",
    "print(\"Panda Series is: \\n\",ps)\n",
    "print(f\"Mean of the data series is {ps.mean()}\")\n",
    "print(f\"Standard deviation of the data series is {ps.std()}\")"
   ]
  },
  {
   "cell_type": "markdown",
   "id": "6b2856c4",
   "metadata": {},
   "source": [
    "5.      Write a Pandas program to get the first 3 rows of a given DataFrame. "
   ]
  },
  {
   "cell_type": "code",
   "execution_count": 3,
   "id": "562c7aa7",
   "metadata": {},
   "outputs": [
    {
     "name": "stdout",
     "output_type": "stream",
     "text": [
      "Dataframe is: \n",
      "        Name       Email Address  Age\n",
      "0    sarika    sarika@gmail.com   29\n",
      "1     aaron     aaron@gmail.com   28\n",
      "2  srividya  srividya@gmail.com   27\n",
      "3     alvin     alvin@gmail.com   26\n",
      "4      mary      mary@gmail.com   30\n",
      "5   nishant   nishant@gmail.com   25\n",
      "6     chika    chicka@gmail.com   27\n",
      "7     rocky     rocky@gmail.com   26\n",
      "\n",
      "\n",
      "First three rows of a given dataframe is: \n",
      "        Name       Email Address  Age\n",
      "0    sarika    sarika@gmail.com   29\n",
      "1     aaron     aaron@gmail.com   28\n",
      "2  srividya  srividya@gmail.com   27\n"
     ]
    }
   ],
   "source": [
    "student_data={'Name':['sarika','aaron','srividya','alvin','mary','nishant','chika','rocky'],\n",
    "            'Email Address':['sarika@gmail.com','aaron@gmail.com','srividya@gmail.com','alvin@gmail.com',\n",
    "                     'mary@gmail.com','nishant@gmail.com','chicka@gmail.com','rocky@gmail.com'],\n",
    "             'Age':[29,28,27,26,30,25,27,26]}\n",
    "df1=pd.DataFrame(student_data)\n",
    "print(\"Dataframe is: \\n\",df1)\n",
    "threeRows=df1.iloc[:3]\n",
    "print(\"\\n\\nFirst three rows of a given dataframe is: \\n\",threeRows)"
   ]
  },
  {
   "cell_type": "markdown",
   "id": "5b22bb7d",
   "metadata": {},
   "source": [
    "6.     Write a Pandas program to insert a column at a specific index in a given DataFrame."
   ]
  },
  {
   "cell_type": "code",
   "execution_count": 34,
   "id": "e7e17a60",
   "metadata": {},
   "outputs": [
    {
     "name": "stdout",
     "output_type": "stream",
     "text": [
      "Dataframe is: \n",
      "        Name       Email Address\n",
      "0    sarika    sarika@gmail.com\n",
      "1     aaron     aaron@gmail.com\n",
      "2  srividya  srividya@gmail.com\n",
      "3     alvin     alvin@gmail.com\n",
      "4      mary      mary@gmail.com\n",
      "5   nishant   nishant@gmail.com\n",
      "6     chika    chicka@gmail.com\n",
      "7     rocky     rocky@gmail.com\n",
      "\n",
      "\n",
      "New dataframe after inserting new column: \n",
      "        Name  Age       Email Address\n",
      "0    sarika   29    sarika@gmail.com\n",
      "1     aaron   28     aaron@gmail.com\n",
      "2  srividya   27  srividya@gmail.com\n",
      "3     alvin   26     alvin@gmail.com\n",
      "4      mary   30      mary@gmail.com\n",
      "5   nishant   25   nishant@gmail.com\n",
      "6     chika   27    chicka@gmail.com\n",
      "7     rocky   26     rocky@gmail.com\n"
     ]
    }
   ],
   "source": [
    "student_data={'Name':['sarika','aaron','srividya','alvin','mary','nishant','chika','rocky'],\n",
    "            'Email Address':['sarika@gmail.com','aaron@gmail.com','srividya@gmail.com','alvin@gmail.com',\n",
    "                     'mary@gmail.com','nishant@gmail.com','chicka@gmail.com','rocky@gmail.com']}\n",
    "df1=pd.DataFrame(student_data)\n",
    "print(\"Dataframe is: \\n\",df1)\n",
    "age=[29,28,27,26,30,25,27,26]\n",
    "index=1\n",
    "df1.insert(loc=index,column='Age',value=age)\n",
    "print(\"\\n\\nNew dataframe after inserting new column: \\n\",df1)"
   ]
  },
  {
   "cell_type": "markdown",
   "id": "821a34ac",
   "metadata": {},
   "source": [
    "7.      Write a Pandas program to print a DataFrame without index."
   ]
  },
  {
   "cell_type": "code",
   "execution_count": 51,
   "id": "b81028c2",
   "metadata": {},
   "outputs": [
    {
     "name": "stdout",
     "output_type": "stream",
     "text": [
      "Dataframe with index is: \n",
      "        Name       Email Address  Age\n",
      "0    sarika    sarika@gmail.com   29\n",
      "1     aaron     aaron@gmail.com   28\n",
      "2  srividya  srividya@gmail.com   27\n",
      "3     alvin     alvin@gmail.com   26\n",
      "4      mary      mary@gmail.com   30\n",
      "5   nishant   nishant@gmail.com   25\n",
      "6     chika    chicka@gmail.com   27\n",
      "7     rocky     rocky@gmail.com   26\n",
      "\n",
      "\n",
      "Dataframe without index is: \n",
      "     Name      Email Address  Age\n",
      "  sarika   sarika@gmail.com   29\n",
      "   aaron    aaron@gmail.com   28\n",
      "srividya srividya@gmail.com   27\n",
      "   alvin    alvin@gmail.com   26\n",
      "    mary     mary@gmail.com   30\n",
      " nishant  nishant@gmail.com   25\n",
      "   chika   chicka@gmail.com   27\n",
      "   rocky    rocky@gmail.com   26\n"
     ]
    }
   ],
   "source": [
    "student_data={'Name':['sarika','aaron','srividya','alvin','mary','nishant','chika','rocky'],\n",
    "            'Email Address':['sarika@gmail.com','aaron@gmail.com','srividya@gmail.com','alvin@gmail.com',\n",
    "                     'mary@gmail.com','nishant@gmail.com','chicka@gmail.com','rocky@gmail.com'],\n",
    "             'Age':[29,28,27,26,30,25,27,26]}\n",
    "df1=pd.DataFrame(student_data)\n",
    "print(\"Dataframe with index is: \\n\",df1)\n",
    "print(\"\\n\\nDataframe without index is: \\n\",df1.to_string(index=False))"
   ]
  },
  {
   "cell_type": "markdown",
   "id": "3ddb4b4d",
   "metadata": {},
   "source": [
    "8.     Write a pandas program to find the datatype of each column"
   ]
  },
  {
   "cell_type": "code",
   "execution_count": 52,
   "id": "7a7e2ab2",
   "metadata": {},
   "outputs": [
    {
     "name": "stdout",
     "output_type": "stream",
     "text": [
      "Dataframe is: \n",
      "        Name       Email Address  Age\n",
      "0    sarika    sarika@gmail.com   29\n",
      "1     aaron     aaron@gmail.com   28\n",
      "2  srividya  srividya@gmail.com   27\n",
      "3     alvin     alvin@gmail.com   26\n",
      "4      mary      mary@gmail.com   30\n",
      "5   nishant   nishant@gmail.com   25\n",
      "6     chika    chicka@gmail.com   27\n",
      "7     rocky     rocky@gmail.com   26\n",
      "\n",
      "\n",
      "Datatype of each column is: \n",
      " Name             object\n",
      "Email Address    object\n",
      "Age               int64\n",
      "dtype: object\n"
     ]
    }
   ],
   "source": [
    "student_data={'Name':['sarika','aaron','srividya','alvin','mary','nishant','chika','rocky'],\n",
    "            'Email Address':['sarika@gmail.com','aaron@gmail.com','srividya@gmail.com','alvin@gmail.com',\n",
    "                     'mary@gmail.com','nishant@gmail.com','chicka@gmail.com','rocky@gmail.com'],\n",
    "             'Age':[29,28,27,26,30,25,27,26]}\n",
    "df1=pd.DataFrame(student_data)\n",
    "print(\"Dataframe is: \\n\",df1)\n",
    "print(\"\\n\\nDatatype of each column is: \\n\",df1.dtypes)"
   ]
  },
  {
   "cell_type": "markdown",
   "id": "e83b7b79",
   "metadata": {},
   "source": [
    "9.Write a pandas program to convert the csv file to excel"
   ]
  },
  {
   "cell_type": "code",
   "execution_count": 42,
   "id": "4c0f7f1e",
   "metadata": {},
   "outputs": [],
   "source": [
    "csv1=pd.read_csv(\"sample1.csv\")\n",
    "excelfile=pd.ExcelWriter(\"Sample1.xlsx\")\n",
    "csv1.to_excel(excelfile,index=False)\n",
    "excelfile.save()"
   ]
  },
  {
   "cell_type": "markdown",
   "id": "2e9f8a80",
   "metadata": {},
   "source": [
    "10.Write a Pandas program to detect missing values of a given DataFrame. Display True or False.\n",
    "Test Data:\n",
    "      ord_no  purch_amt    ord_date  customer_id  salesman_id\n",
    " 0   70001.0     150.50  2012-10-05         3002       5002.0\n",
    " 1       NaN     270.65  2012-09-10         3001       5003.0\n",
    " 2   70002.0      65.26         NaN         3001       5001.0\n",
    " 3   70004.0     110.50  2012-08-17         3003          NaN\n",
    " 4       NaN     948.50  2012-09-10         3002       5002.0\n",
    " 5   70005.0    2400.60  2012-07-27         3001       5001.0\n",
    " 6       NaN    5760.00  2012-09-10         3001       5001.0\n",
    " 7   70010.0    1983.43  2012-10-10         3004          NaN\n",
    " 8   70003.0    2480.40  2012-10-10         3003       5003.0\n",
    " 9   70012.0     250.45  2012-06-27         3002       5002.0\n",
    " 10      NaN      75.29  2012-08-17         3001       5003.0\n",
    " 11  70013.0    3045.60  2012-04-25         3001          NaN"
   ]
  },
  {
   "cell_type": "code",
   "execution_count": 53,
   "id": "3b028093",
   "metadata": {},
   "outputs": [
    {
     "name": "stdout",
     "output_type": "stream",
     "text": [
      "Dataframe is: \n",
      "      ord_no  purch_amt    ord_date  customer_id  salesman_id\n",
      "0   70001.0     150.50  2012-10-05         3002       5002.0\n",
      "1       NaN     270.65  2012-09-10         3001       5003.0\n",
      "2   70002.0      65.26         NaN         3001       5001.0\n",
      "3   70004.0     110.50  2012-08-17         3003          NaN\n",
      "4       NaN     948.50  2012-09-10         3002       5002.0\n",
      "5   70005.0    2400.60  2012-07-27         3001       5001.0\n",
      "6       NaN    5760.00  2012-09-10         3001       5001.0\n",
      "7   70010.0    1983.43  2012-10-10         3004          NaN\n",
      "8   70003.0    2480.40  2012-10-10         3003       5003.0\n",
      "9   70012.0     250.45  2012-06-27         3002       5002.0\n",
      "10      NaN      75.29  2012-08-17         3001       5003.0\n",
      "11  70013.0    3045.60  2012-04-25         3001          NaN\n",
      "\n",
      "\n",
      "Missing value of a given Dataframe is: \n",
      "     ord_no  purch_amt  ord_date  customer_id  salesman_id\n",
      "0    False      False     False        False        False\n",
      "1     True      False     False        False        False\n",
      "2    False      False      True        False        False\n",
      "3    False      False     False        False         True\n",
      "4     True      False     False        False        False\n",
      "5    False      False     False        False        False\n",
      "6     True      False     False        False        False\n",
      "7    False      False     False        False         True\n",
      "8    False      False     False        False        False\n",
      "9    False      False     False        False        False\n",
      "10    True      False     False        False        False\n",
      "11   False      False     False        False         True\n"
     ]
    }
   ],
   "source": [
    "df1 = pd.DataFrame({\n",
    "    'ord_no':[70001,np.nan,70002,70004,np.nan,70005,np.nan,70010,70003,70012,np.nan,70013],\n",
    "    'purch_amt':[150.5,270.65,65.26,110.5,948.5,2400.6,5760,1983.43,2480.4,250.45, 75.29,3045.6],\n",
    "    'ord_date': ['2012-10-05','2012-09-10',np.nan,'2012-08-17','2012-09-10','2012-07-27','2012-09-10','2012-10-10','2012-10-10','2012-06-27','2012-08-17','2012-04-25'],\n",
    "    'customer_id':[3002,3001,3001,3003,3002,3001,3001,3004,3003,3002,3001,3001],\n",
    "    'salesman_id':[5002,5003,5001,np.nan,5002,5001,5001,np.nan,5003,5002,5003,np.nan]})\n",
    "\n",
    "print(\"Dataframe is: \\n\",df1)\n",
    "print(\"\\n\\nMissing value of a given Dataframe is: \\n\",df1.isna())"
   ]
  },
  {
   "cell_type": "markdown",
   "id": "346be40d",
   "metadata": {},
   "source": [
    "11. Write a Pandas program to count the number of missing values in each column of above DataFrame (Question 10)."
   ]
  },
  {
   "cell_type": "code",
   "execution_count": 56,
   "id": "ee683186",
   "metadata": {},
   "outputs": [
    {
     "name": "stdout",
     "output_type": "stream",
     "text": [
      "Dataframe is: \n",
      "      ord_no  purch_amt    ord_date  customer_id  salesman_id\n",
      "0   70001.0     150.50  2012-10-05         3002       5002.0\n",
      "1       NaN     270.65  2012-09-10         3001       5003.0\n",
      "2   70002.0      65.26         NaN         3001       5001.0\n",
      "3   70004.0     110.50  2012-08-17         3003          NaN\n",
      "4       NaN     948.50  2012-09-10         3002       5002.0\n",
      "5   70005.0    2400.60  2012-07-27         3001       5001.0\n",
      "6       NaN    5760.00  2012-09-10         3001       5001.0\n",
      "7   70010.0    1983.43  2012-10-10         3004          NaN\n",
      "8   70003.0    2480.40  2012-10-10         3003       5003.0\n",
      "9   70012.0     250.45  2012-06-27         3002       5002.0\n",
      "10      NaN      75.29  2012-08-17         3001       5003.0\n",
      "11  70013.0    3045.60  2012-04-25         3001          NaN\n",
      "\n",
      "\n",
      "Count of missing value of a given Dataframe is: \n",
      " ord_no         4\n",
      "purch_amt      0\n",
      "ord_date       1\n",
      "customer_id    0\n",
      "salesman_id    3\n",
      "dtype: int64\n"
     ]
    }
   ],
   "source": [
    "df1 = pd.DataFrame({\n",
    "    'ord_no':[70001,np.nan,70002,70004,np.nan,70005,np.nan,70010,70003,70012,np.nan,70013],\n",
    "    'purch_amt':[150.5,270.65,65.26,110.5,948.5,2400.6,5760,1983.43,2480.4,250.45, 75.29,3045.6],\n",
    "    'ord_date': ['2012-10-05','2012-09-10',np.nan,'2012-08-17','2012-09-10','2012-07-27','2012-09-10','2012-10-10','2012-10-10','2012-06-27','2012-08-17','2012-04-25'],\n",
    "    'customer_id':[3002,3001,3001,3003,3002,3001,3001,3004,3003,3002,3001,3001],\n",
    "    'salesman_id':[5002,5003,5001,np.nan,5002,5001,5001,np.nan,5003,5002,5003,np.nan]})\n",
    "\n",
    "print(\"Dataframe is: \\n\",df1)\n",
    "print(\"\\n\\nCount of missing value of a given Dataframe is: \\n\",df1.isna().sum())"
   ]
  },
  {
   "cell_type": "markdown",
   "id": "4bf9535d",
   "metadata": {},
   "source": [
    "12. Write a Pandas program to drop the rows where at least one element is missing in a given DataFrame."
   ]
  },
  {
   "cell_type": "code",
   "execution_count": 57,
   "id": "01957a7b",
   "metadata": {},
   "outputs": [
    {
     "name": "stdout",
     "output_type": "stream",
     "text": [
      "Dataframe is: \n",
      "      ord_no  purch_amt    ord_date  customer_id  salesman_id\n",
      "0   70001.0     150.50  2012-10-05         3002       5002.0\n",
      "1       NaN     270.65  2012-09-10         3001       5003.0\n",
      "2   70002.0      65.26         NaN         3001       5001.0\n",
      "3   70004.0     110.50  2012-08-17         3003          NaN\n",
      "4       NaN     948.50  2012-09-10         3002       5002.0\n",
      "5   70005.0    2400.60  2012-07-27         3001       5001.0\n",
      "6       NaN    5760.00  2012-09-10         3001       5001.0\n",
      "7   70010.0    1983.43  2012-10-10         3004          NaN\n",
      "8   70003.0    2480.40  2012-10-10         3003       5003.0\n",
      "9   70012.0     250.45  2012-06-27         3002       5002.0\n",
      "10      NaN      75.29  2012-08-17         3001       5003.0\n",
      "11  70013.0    3045.60  2012-04-25         3001          NaN\n",
      "\n",
      "\n",
      "New dataframe after droping the rows where at least one element is missing: \n",
      "     ord_no  purch_amt    ord_date  customer_id  salesman_id\n",
      "0  70001.0     150.50  2012-10-05         3002       5002.0\n",
      "5  70005.0    2400.60  2012-07-27         3001       5001.0\n",
      "8  70003.0    2480.40  2012-10-10         3003       5003.0\n",
      "9  70012.0     250.45  2012-06-27         3002       5002.0\n"
     ]
    }
   ],
   "source": [
    "df1 = pd.DataFrame({\n",
    "    'ord_no':[70001,np.nan,70002,70004,np.nan,70005,np.nan,70010,70003,70012,np.nan,70013],\n",
    "    'purch_amt':[150.5,270.65,65.26,110.5,948.5,2400.6,5760,1983.43,2480.4,250.45, 75.29,3045.6],\n",
    "    'ord_date': ['2012-10-05','2012-09-10',np.nan,'2012-08-17','2012-09-10','2012-07-27','2012-09-10','2012-10-10','2012-10-10','2012-06-27','2012-08-17','2012-04-25'],\n",
    "    'customer_id':[3002,3001,3001,3003,3002,3001,3001,3004,3003,3002,3001,3001],\n",
    "    'salesman_id':[5002,5003,5001,np.nan,5002,5001,5001,np.nan,5003,5002,5003,np.nan]})\n",
    "\n",
    "print(\"Dataframe is: \\n\",df1)\n",
    "print(\"\\n\\nNew dataframe after droping the rows where at least one element is missing: \\n\", df1.dropna())"
   ]
  },
  {
   "cell_type": "markdown",
   "id": "668d0e83",
   "metadata": {},
   "source": [
    "13. Write a Pandas program to replace NaNs with a single constant value in specified columns in a DataFrame."
   ]
  },
  {
   "cell_type": "code",
   "execution_count": 62,
   "id": "a48c7fc5",
   "metadata": {},
   "outputs": [
    {
     "name": "stdout",
     "output_type": "stream",
     "text": [
      "Dataframe is: \n",
      "      ord_no  purch_amt    ord_date  customer_id  salesman_id\n",
      "0   70001.0     150.50  2012-10-05         3002       5002.0\n",
      "1       NaN     270.65  2012-09-10         3001       5003.0\n",
      "2   70002.0      65.26         NaN         3001       5001.0\n",
      "3   70004.0     110.50  2012-08-17         3003          NaN\n",
      "4       NaN     948.50  2012-09-10         3002       5002.0\n",
      "5   70005.0    2400.60  2012-07-27         3001       5001.0\n",
      "6       NaN    5760.00  2012-09-10         3001       5001.0\n",
      "7   70010.0    1983.43  2012-10-10         3004          NaN\n",
      "8   70003.0    2480.40  2012-10-10         3003       5003.0\n",
      "9   70012.0     250.45  2012-06-27         3002       5002.0\n",
      "10      NaN      75.29  2012-08-17         3001       5003.0\n",
      "11  70013.0    3045.60  2012-04-25         3001          NaN\n",
      "\n",
      "\n",
      "New dataframe after replacing NaN with a single constant value in ord_no column: \n",
      " 0     70001.0\n",
      "1       123.0\n",
      "2     70002.0\n",
      "3     70004.0\n",
      "4       123.0\n",
      "5     70005.0\n",
      "6       123.0\n",
      "7     70010.0\n",
      "8     70003.0\n",
      "9     70012.0\n",
      "10      123.0\n",
      "11    70013.0\n",
      "Name: ord_no, dtype: float64\n"
     ]
    }
   ],
   "source": [
    "df1 = pd.DataFrame({\n",
    "    'ord_no':[70001,np.nan,70002,70004,np.nan,70005,np.nan,70010,70003,70012,np.nan,70013],\n",
    "    'purch_amt':[150.5,270.65,65.26,110.5,948.5,2400.6,5760,1983.43,2480.4,250.45, 75.29,3045.6],\n",
    "    'ord_date': ['2012-10-05','2012-09-10',np.nan,'2012-08-17','2012-09-10','2012-07-27','2012-09-10','2012-10-10','2012-10-10','2012-06-27','2012-08-17','2012-04-25'],\n",
    "    'customer_id':[3002,3001,3001,3003,3002,3001,3001,3004,3003,3002,3001,3001],\n",
    "    'salesman_id':[5002,5003,5001,np.nan,5002,5001,5001,np.nan,5003,5002,5003,np.nan]})\n",
    "\n",
    "print(\"Dataframe is: \\n\",df1)\n",
    "print(\"\\n\\nNew dataframe after replacing NaN with a single constant value in ord_no column: \\n\",df1['ord_no'].fillna(123, inplace=False))"
   ]
  },
  {
   "cell_type": "markdown",
   "id": "e74b370a",
   "metadata": {},
   "source": [
    "14. Write a Pandas program to add leading zeros to the integer column in a pandas series and makes the length of the field to 8 digit"
   ]
  },
  {
   "cell_type": "code",
   "execution_count": 50,
   "id": "4a97fb75",
   "metadata": {},
   "outputs": [
    {
     "name": "stdout",
     "output_type": "stream",
     "text": [
      "Dataframe is:    product_name  price\n",
      "0      toy car     25\n",
      "1      diapers     45\n",
      "2       cheese      6\n",
      "3       carrot      3\n",
      "4        bread      2\n",
      "5          gum      1\n",
      "\n",
      "\n",
      "New dataframe after adding leading zero to price column\n",
      "   product_name     price\n",
      "0      toy car  00000025\n",
      "1      diapers  00000045\n",
      "2       cheese  00000006\n",
      "3       carrot  00000003\n",
      "4        bread  00000002\n",
      "5          gum  00000001\n"
     ]
    }
   ],
   "source": [
    "product={'product_name':['toy car','diapers','cheese','carrot','bread','gum'],\n",
    "          'price':[25,45,6,3,2,1]}\n",
    "df1=pd.DataFrame(product)\n",
    "print(\"Dataframe is: \",df1)\n",
    "df1['price'] = df1['price'].map(lambda x: f'{x:0>8}')\n",
    "print(\"\\n\\nNew dataframe after adding leading zero to price column\\n\",df1)"
   ]
  },
  {
   "cell_type": "markdown",
   "id": "95f85a64",
   "metadata": {},
   "source": [
    "15. Write a Pandas program to check whether only numeric values present in a given column of a DataFrame"
   ]
  },
  {
   "cell_type": "code",
   "execution_count": 62,
   "id": "672ec605",
   "metadata": {},
   "outputs": [
    {
     "name": "stdout",
     "output_type": "stream",
     "text": [
      "Dataframe is: \n",
      "   product_name serial_no  price\n",
      "0      toy car      S001     25\n",
      "1      diapers       002     45\n",
      "2       cheese      S003      6\n",
      "3       carrot       004      3\n",
      "4        bread       005      2\n",
      "5          gum      S006      1\n",
      "\n",
      "\n",
      "New Dataframe after checking whether only numeric values are present in serial_no column:\n",
      "   product_name serial_no  price  Serial_Number(Digit or AlphaNumeric)\n",
      "0      toy car      S001     25                                 False\n",
      "1      diapers       002     45                                  True\n",
      "2       cheese      S003      6                                 False\n",
      "3       carrot       004      3                                  True\n",
      "4        bread       005      2                                  True\n",
      "5          gum      S006      1                                 False\n"
     ]
    }
   ],
   "source": [
    "product={'product_name':['toy car','diapers','cheese','carrot','bread','gum'],\n",
    "         'serial_no':['S001','002','S003','004','005','S006'],\n",
    "          'price':[25,45,6,3,2,1]}\n",
    "df1=pd.DataFrame(product)\n",
    "print(\"Dataframe is: \\n\",df1)\n",
    "df1['Serial_Number(Digit or AlphaNumeric)'] = list(map(lambda x: x.isdigit(), df1['serial_no']))\n",
    "print(\"\\n\\nNew Dataframe after checking whether only numeric values are present in serial_no column:\\n\",df1)"
   ]
  },
  {
   "cell_type": "markdown",
   "id": "b691df6c",
   "metadata": {},
   "source": [
    "16.Write a Pandas program to display the default index and set a column as an Index in a given dataframe\n",
    " Test Data:\n",
    " 0 s001  V  Alberto Franco     15/05/2002      35  street1   t1\n",
    " 1 s002  V    Gino Mcneill     17/05/2002      32  street2   t2\n",
    " 2 s003  VI    Ryan Parkes     16/02/1999      33  street3   t3\n",
    " 3 s001  VI    Eesha Hinton    25/09/1998      30  street1   t4\n",
    " 4 s002  V    Gino Mcneill     11/05/2002      31  street2   t5\n",
    " 5 s004  VI    David Parkes     15/09/1997     32  street4   t6\n",
    " "
   ]
  },
  {
   "cell_type": "code",
   "execution_count": 87,
   "id": "2d023723",
   "metadata": {},
   "outputs": [
    {
     "name": "stdout",
     "output_type": "stream",
     "text": [
      "Dtaframe with default index is: \n",
      "   school_code class            name date_Of_Birth  weight  address t_id\n",
      "0        s001     V  Alberto Franco    15/05/2002      35  street1   t1\n",
      "1        s002     V    Gino Mcneill    17/05/2002      32  street2   t2\n",
      "2        s003    VI     Ryan Parkes    16/02/1999      33  street3   t3\n",
      "3        s001    VI    Eesha Hinton    25/09/1998      30  street1   t4\n",
      "4        s002     V    Gino Mcneill    11/05/2002      31  street2   t5\n",
      "5        s004    VI    David Parkes    15/09/1997      32  street4   t6\n",
      "\n",
      "\n",
      "New dataframe after setting school_code as a index is: \n",
      "             class            name date_Of_Birth  weight  address t_id\n",
      "school_code                                                          \n",
      "s001            V  Alberto Franco    15/05/2002      35  street1   t1\n",
      "s002            V    Gino Mcneill    17/05/2002      32  street2   t2\n",
      "s003           VI     Ryan Parkes    16/02/1999      33  street3   t3\n",
      "s001           VI    Eesha Hinton    25/09/1998      30  street1   t4\n",
      "s002            V    Gino Mcneill    11/05/2002      31  street2   t5\n",
      "s004           VI    David Parkes    15/09/1997      32  street4   t6\n"
     ]
    }
   ],
   "source": [
    "data = pd.DataFrame({\n",
    "    'school_code': ['s001','s002','s003','s001','s002','s004'],\n",
    "    'class': ['V', 'V', 'VI', 'VI', 'V', 'VI'],\n",
    "    'name': ['Alberto Franco','Gino Mcneill','Ryan Parkes', 'Eesha Hinton', 'Gino Mcneill', 'David Parkes'],\n",
    "    'date_Of_Birth': ['15/05/2002','17/05/2002','16/02/1999','25/09/1998','11/05/2002','15/09/1997'],\n",
    "    'weight': [35, 32, 33, 30, 31, 32],\n",
    "    'address': ['street1', 'street2', 'street3', 'street1', 'street2', 'street4'],\n",
    "    't_id':['t1', 't2', 't3', 't4', 't5', 't6']})\n",
    "print(\"Dtaframe with default index is: \\n\",data)\n",
    "data1=data.set_index('school_code')\n",
    "print(\"\\n\\nNew dataframe after setting school_code as a index is: \\n\",data1)"
   ]
  },
  {
   "cell_type": "markdown",
   "id": "9f4bea19",
   "metadata": {},
   "source": [
    "17. Write a Pandas program to create a dataframe and set a title or name of the index column."
   ]
  },
  {
   "cell_type": "code",
   "execution_count": 4,
   "id": "db1d4077",
   "metadata": {},
   "outputs": [
    {
     "name": "stdout",
     "output_type": "stream",
     "text": [
      "Dataframe is: \n",
      "           Name       Email Address  Age\n",
      "I       sarika    sarika@gmail.com   29\n",
      "II       aaron     aaron@gmail.com   28\n",
      "III   srividya  srividya@gmail.com   27\n",
      "IV       alvin     alvin@gmail.com   26\n",
      "V         mary      mary@gmail.com   30\n",
      "VI     nishant   nishant@gmail.com   25\n",
      "VII      chika    chicka@gmail.com   27\n",
      "VIII     rocky     rocky@gmail.com   26\n",
      "\n",
      "\n",
      "New dataframe after setting title for index column: \n",
      "                   Name       Email Address  Age\n",
      "Index_Number                                   \n",
      "I               sarika    sarika@gmail.com   29\n",
      "II               aaron     aaron@gmail.com   28\n",
      "III           srividya  srividya@gmail.com   27\n",
      "IV               alvin     alvin@gmail.com   26\n",
      "V                 mary      mary@gmail.com   30\n",
      "VI             nishant   nishant@gmail.com   25\n",
      "VII              chika    chicka@gmail.com   27\n",
      "VIII             rocky     rocky@gmail.com   26\n"
     ]
    }
   ],
   "source": [
    "student_data=pd.DataFrame({'Name':['sarika','aaron','srividya','alvin','mary','nishant','chika','rocky'],\n",
    "            'Email Address':['sarika@gmail.com','aaron@gmail.com','srividya@gmail.com','alvin@gmail.com',\n",
    "                     'mary@gmail.com','nishant@gmail.com','chicka@gmail.com','rocky@gmail.com'],\n",
    "             'Age':[29,28,27,26,30,25,27,26]},\n",
    "            index = ['I','II','III','IV','V','VI','VII','VIII'])\n",
    "print(\"Dataframe is: \\n\",student_data)\n",
    "student_data.index.name='Index_Number'\n",
    "print(\"\\n\\nNew dataframe after setting title for index column: \\n\",student_data)"
   ]
  },
  {
   "cell_type": "markdown",
   "id": "0914f9cf",
   "metadata": {},
   "source": [
    "18. Write a Pandas program to select a specific row of given series/dataframe by integer index."
   ]
  },
  {
   "cell_type": "code",
   "execution_count": 9,
   "id": "4523f889",
   "metadata": {},
   "outputs": [
    {
     "name": "stdout",
     "output_type": "stream",
     "text": [
      "Dataframe is: \n",
      "        Name       Email Address  Age\n",
      "0    sarika    sarika@gmail.com   29\n",
      "1     aaron     aaron@gmail.com   28\n",
      "2  srividya  srividya@gmail.com   27\n",
      "3     alvin     alvin@gmail.com   26\n",
      "4      mary      mary@gmail.com   30\n",
      "5   nishant   nishant@gmail.com   25\n",
      "6     chika    chicka@gmail.com   27\n",
      "7     rocky     rocky@gmail.com   26\n",
      "\n",
      "\n",
      "Display 2nd row: \n",
      "        Name       Email Address  Age\n",
      "2  srividya  srividya@gmail.com   27\n"
     ]
    }
   ],
   "source": [
    "student_data={'Name':['sarika','aaron','srividya','alvin','mary','nishant','chika','rocky'],\n",
    "            'Email Address':['sarika@gmail.com','aaron@gmail.com','srividya@gmail.com','alvin@gmail.com',\n",
    "                     'mary@gmail.com','nishant@gmail.com','chicka@gmail.com','rocky@gmail.com'],\n",
    "             'Age':[29,28,27,26,30,25,27,26]}\n",
    "df1=pd.DataFrame(student_data)\n",
    "print(\"Dataframe is: \\n\",df1)\n",
    "secondRow=df1.iloc[[2]]\n",
    "print(\"\\n\\nDisplay 2nd row: \\n\",secondRow)"
   ]
  },
  {
   "cell_type": "markdown",
   "id": "99cef285",
   "metadata": {},
   "source": [
    "19. Write a Pandas program to find the indexes of rows of a specified value of a given column in a DataFrame."
   ]
  },
  {
   "cell_type": "code",
   "execution_count": 14,
   "id": "c93b019c",
   "metadata": {},
   "outputs": [
    {
     "name": "stdout",
     "output_type": "stream",
     "text": [
      "Dataframe is: \n",
      "        Name       Email Address  Age\n",
      "0    sarika    sarika@gmail.com   29\n",
      "1     aaron     aaron@gmail.com   28\n",
      "2  srividya  srividya@gmail.com   27\n",
      "3     alvin     alvin@gmail.com   26\n",
      "4      mary      mary@gmail.com   30\n",
      "5   nishant   nishant@gmail.com   25\n",
      "6     chika    chicka@gmail.com   27\n",
      "7     rocky     rocky@gmail.com   26\n",
      "\n",
      "\n",
      " Display indexes of rows where specified value of a Age matches: \n",
      " Int64Index([2, 6], dtype='int64')\n"
     ]
    }
   ],
   "source": [
    "student_data={'Name':['sarika','aaron','srividya','alvin','mary','nishant','chika','rocky'],\n",
    "            'Email Address':['sarika@gmail.com','aaron@gmail.com','srividya@gmail.com','alvin@gmail.com',\n",
    "                     'mary@gmail.com','nishant@gmail.com','chicka@gmail.com','rocky@gmail.com'],\n",
    "             'Age':[29,28,27,26,30,25,27,26]}\n",
    "df1=pd.DataFrame(student_data)\n",
    "print(\"Dataframe is: \\n\",df1)\n",
    "df2=df1.index[df1['Age']==27]\n",
    "print(\"\\n\\n Display indexes of rows where specified value of a Age matches: \\n\",df2)"
   ]
  },
  {
   "cell_type": "markdown",
   "id": "98d2f1d9",
   "metadata": {},
   "source": [
    "20. Write a Pandas program to find integer index of rows with missing data in a given dataframe."
   ]
  },
  {
   "cell_type": "code",
   "execution_count": 30,
   "id": "48ee31d1",
   "metadata": {},
   "outputs": [
    {
     "name": "stdout",
     "output_type": "stream",
     "text": [
      "Dataframe is: \n",
      "      ord_no  purch_amt    ord_date  customer_id  salesman_id\n",
      "0   70001.0     150.50  2012-10-05         3002       5002.0\n",
      "1       NaN     270.65  2012-09-10         3001       5003.0\n",
      "2   70002.0      65.26         NaN         3001       5001.0\n",
      "3   70004.0     110.50  2012-08-17         3003          NaN\n",
      "4       NaN     948.50  2012-09-10         3002       5002.0\n",
      "5   70005.0    2400.60  2012-07-27         3001       5001.0\n",
      "6       NaN    5760.00  2012-09-10         3001       5001.0\n",
      "7   70010.0    1983.43  2012-10-10         3004          NaN\n",
      "8   70003.0    2480.40  2012-10-10         3003       5003.0\n",
      "9   70012.0     250.45  2012-06-27         3002       5002.0\n",
      "10      NaN      75.29  2012-08-17         3001       5003.0\n",
      "11  70013.0    3045.60  2012-04-25         3001          NaN\n",
      "\n",
      "\n",
      " Display index of rows where ord_no is missing: \n",
      " Int64Index([1, 4, 6, 10], dtype='int64')\n"
     ]
    }
   ],
   "source": [
    "df1 = pd.DataFrame({\n",
    "    'ord_no':[70001,np.nan,70002,70004,np.nan,70005,np.nan,70010,70003,70012,np.nan,70013],\n",
    "    'purch_amt':[150.5,270.65,65.26,110.5,948.5,2400.6,5760,1983.43,2480.4,250.45, 75.29,3045.6],\n",
    "    'ord_date': ['2012-10-05','2012-09-10',np.nan,'2012-08-17','2012-09-10','2012-07-27','2012-09-10','2012-10-10','2012-10-10','2012-06-27','2012-08-17','2012-04-25'],\n",
    "    'customer_id':[3002,3001,3001,3003,3002,3001,3001,3004,3003,3002,3001,3001],\n",
    "    'salesman_id':[5002,5003,5001,np.nan,5002,5001,5001,np.nan,5003,5002,5003,np.nan]})\n",
    "\n",
    "print(\"Dataframe is: \\n\",df1)\n",
    "index = df1['ord_no'].index[df1['ord_no'].apply(np.isnan)]\n",
    "print(\"\\n\\n Display index of rows where ord_no is missing: \\n\",index)\n"
   ]
  },
  {
   "cell_type": "code",
   "execution_count": null,
   "id": "385f0e19",
   "metadata": {},
   "outputs": [],
   "source": []
  }
 ],
 "metadata": {
  "kernelspec": {
   "display_name": "Python 3 (ipykernel)",
   "language": "python",
   "name": "python3"
  },
  "language_info": {
   "codemirror_mode": {
    "name": "ipython",
    "version": 3
   },
   "file_extension": ".py",
   "mimetype": "text/x-python",
   "name": "python",
   "nbconvert_exporter": "python",
   "pygments_lexer": "ipython3",
   "version": "3.9.7"
  }
 },
 "nbformat": 4,
 "nbformat_minor": 5
}
