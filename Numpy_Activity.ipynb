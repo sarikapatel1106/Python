{
 "cells": [
  {
   "cell_type": "markdown",
   "id": "6ff1068d",
   "metadata": {},
   "source": [
    "#Q1 Write a Python program to create an array of 5 integers and display the array\n",
    "Access individual element through indexes"
   ]
  },
  {
   "cell_type": "code",
   "execution_count": 24,
   "id": "76b24bca",
   "metadata": {},
   "outputs": [
    {
     "name": "stdout",
     "output_type": "stream",
     "text": [
      "Array: [1 7 8 4 3]\n",
      "1\n",
      "7\n",
      "8\n",
      "4\n",
      "3\n"
     ]
    }
   ],
   "source": [
    "a=np.array([1,7,8,4,3])\n",
    "print(\"Array:\",a)\n",
    "for i in a:\n",
    "    print(i)"
   ]
  },
  {
   "cell_type": "markdown",
   "id": "fb92da69",
   "metadata": {},
   "source": [
    "#Q2 Write a Python program to reverse the order of the items in the array"
   ]
  },
  {
   "cell_type": "code",
   "execution_count": 30,
   "id": "362e3496",
   "metadata": {},
   "outputs": [
    {
     "name": "stdout",
     "output_type": "stream",
     "text": [
      "Original array is: [ 2 -1  7  5 22  8 55  0  5  3]\n",
      "Reversed array is:  [ 3  5  0 55  8 22  5  7 -1  2]\n"
     ]
    }
   ],
   "source": [
    "a=np.array([2,-1,7,5,22,8,55,0,5,3])\n",
    "print(\"Original array is:\",a)\n",
    "b=a[::-1]\n",
    "print(\"Reversed array is: \",b)"
   ]
  },
  {
   "cell_type": "markdown",
   "id": "ea01fc73",
   "metadata": {},
   "source": [
    "#Q3 Create a 4X2 integer array and Prints its attributes\n",
    "#The shape of an array.\n",
    "#Array dimensions.\n",
    "#The Length of each element of the array in bytes."
   ]
  },
  {
   "cell_type": "code",
   "execution_count": 61,
   "id": "11859d80",
   "metadata": {},
   "outputs": [
    {
     "name": "stdout",
     "output_type": "stream",
     "text": [
      "Array is: \n",
      " [[4 0]\n",
      " [3 1]\n",
      " [9 0]\n",
      " [2 5]]\n",
      "Shape of an array is:  (4, 2)\n",
      "Dimensions of array is 2\n",
      "Length of each element of the array is:  32\n"
     ]
    }
   ],
   "source": [
    "a=np.array([[4,0],[3,1],[9,0],[2,5]])\n",
    "print(\"Array is: \\n\",a)\n",
    "print(\"Shape of an array is: \",a.shape)\n",
    "print(\"Dimensions of array is\" ,a.ndim)\n",
    "print(\"Length of each element of the array is: \",a.nbytes)"
   ]
  },
  {
   "cell_type": "markdown",
   "id": "0b1e4962",
   "metadata": {},
   "source": [
    "#Q4 return array of items in the third column from all rows in the following nump\n",
    "([[11 ,22, 33], [44, 55, 66], [77, 88, 99]])"
   ]
  },
  {
   "cell_type": "code",
   "execution_count": 69,
   "id": "ef826d8c",
   "metadata": {},
   "outputs": [
    {
     "name": "stdout",
     "output_type": "stream",
     "text": [
      "Array is: \n",
      " [[11 22 33]\n",
      " [44 55 66]\n",
      " [77 88 99]]\n",
      "Array with third column from all rows is: \n",
      " [33 66 99]\n"
     ]
    }
   ],
   "source": [
    "a=np.array([[11 ,22, 33], [44, 55, 66], [77, 88, 99]])\n",
    "print(\"Array is: \\n\",a)\n",
    "thirdRow=a[...,2]\n",
    "print(\"Array with third column from all rows is: \\n\",thirdRow)"
   ]
  },
  {
   "cell_type": "markdown",
   "id": "86b31070",
   "metadata": {},
   "source": [
    "#Q5 Create a result array by adding the following two NumPy arrays\n",
    "#arrayOne = np.array([[5, 6, 9], [21 ,18, 27]])\n",
    "#arrayTwo = np.array([[15 ,33, 24], [4 ,7, 1]])"
   ]
  },
  {
   "cell_type": "code",
   "execution_count": 73,
   "id": "70f78f43",
   "metadata": {},
   "outputs": [
    {
     "name": "stdout",
     "output_type": "stream",
     "text": [
      "[[ 5  6  9]\n",
      " [21 18 27]]\n",
      "Addition of both numpy array is: \n",
      " [[20 39 33]\n",
      " [25 25 28]]\n",
      "Subtraction of both numpy array is: \n",
      " [[-10 -27 -15]\n",
      " [ 17  11  26]]\n",
      "Multiplication of both numpy array is: \n",
      " [[ 75 198 216]\n",
      " [ 84 126  27]]\n"
     ]
    }
   ],
   "source": [
    "arrayOne = np.array([[5, 6, 9], [21 ,18, 27]])\n",
    "arrayTwo = np.array([[15 ,33, 24], [4 ,7, 1]])\n",
    "addArray=arrayOne+arrayTwo\n",
    "print(\"Addition of both numpy array is: \\n\",addArray)\n",
    "subArray=arrayOne-arrayTwo\n",
    "print(\"Subtraction of both numpy array is: \\n\",subArray)\n",
    "multiArray=arrayOne*arrayTwo\n",
    "print(\"Multiplication of both numpy array is: \\n\",multiArray)"
   ]
  },
  {
   "cell_type": "markdown",
   "id": "5ae1f76c",
   "metadata": {},
   "source": [
    "#Q6 Sort the previous array"
   ]
  },
  {
   "cell_type": "code",
   "execution_count": 55,
   "id": "c93ff206",
   "metadata": {},
   "outputs": [
    {
     "name": "stdout",
     "output_type": "stream",
     "text": [
      "Original array is: \n",
      " [[ 5  6  9]\n",
      " [21 18 27]]\n",
      "Sorted array is: \n",
      " [[ 5  6  9]\n",
      " [18 21 27]]\n",
      "Original array is: \n",
      " [[15 33 24]\n",
      " [ 4  7  1]]\n",
      "Sorted array is: \n",
      " [[15 24 33]\n",
      " [ 1  4  7]]\n"
     ]
    }
   ],
   "source": [
    "arrayOne = np.array([[5, 6, 9], [21 ,18, 27]])\n",
    "print(\"Original array is: \\n\",arrayOne)\n",
    "print(\"Sorted array is: \\n\", np.sort(arrayOne))\n",
    "arrayTwo = np.array([[15 ,33, 24], [4 ,7, 1]])\n",
    "print(\"Original array is: \\n\",arrayTwo)\n",
    "print(\"Sorted array is: \\n\", np.sort(arrayTwo))"
   ]
  },
  {
   "cell_type": "code",
   "execution_count": 77,
   "id": "03e705bf",
   "metadata": {},
   "outputs": [
    {
     "name": "stdout",
     "output_type": "stream",
     "text": [
      "First array is: \n",
      " [[ 5  6  9]\n",
      " [21 18 27]]\n",
      "Second array is: \n",
      " [[15 33 24]\n",
      " [ 4  7  1]\n",
      " [ 3  4  5]]\n",
      "Dot product of both array is : \n",
      " [[126 243 171]\n",
      " [468 927 657]]\n"
     ]
    }
   ],
   "source": [
    "arrayOne = np.array([[5, 6, 9], [21 ,18, 27]])\n",
    "arrayTwo = np.array([[15 ,33, 24], [4 ,7, 1],[3,4,5]])\n",
    "print(\"First array is: \\n\",arrayOne)\n",
    "print(\"Second array is: \\n\",arrayTwo)\n",
    "dotArray=np.dot(arrayOne,arrayTwo)\n",
    "print(\"Dot product of both array is : \\n\",dotArray)"
   ]
  },
  {
   "cell_type": "code",
   "execution_count": null,
   "id": "14e9fc49",
   "metadata": {},
   "outputs": [],
   "source": []
  }
 ],
 "metadata": {
  "kernelspec": {
   "display_name": "Python 3 (ipykernel)",
   "language": "python",
   "name": "python3"
  },
  "language_info": {
   "codemirror_mode": {
    "name": "ipython",
    "version": 3
   },
   "file_extension": ".py",
   "mimetype": "text/x-python",
   "name": "python",
   "nbconvert_exporter": "python",
   "pygments_lexer": "ipython3",
   "version": "3.9.7"
  }
 },
 "nbformat": 4,
 "nbformat_minor": 5
}
