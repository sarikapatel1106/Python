{
 "cells": [
  {
   "cell_type": "code",
   "execution_count": 2,
   "id": "4372ae18",
   "metadata": {},
   "outputs": [
    {
     "name": "stdout",
     "output_type": "stream",
     "text": [
      "John is 36 year old\n"
     ]
    }
   ],
   "source": [
    "class Person:\n",
    "  def __init__(self, name, age):\n",
    "    self.name = name\n",
    "    self.age = age\n",
    "\n",
    "p1 = Person(\"John\", 36)\n",
    "\n",
    "print(p1.name, \"is\", p1.age, \"year old\")"
   ]
  },
  {
   "cell_type": "code",
   "execution_count": 3,
   "id": "a87bfb86",
   "metadata": {},
   "outputs": [
    {
     "name": "stdout",
     "output_type": "stream",
     "text": [
      "addition is =  30\n",
      "Subtractiuon is =  -10\n",
      "Multiplication is =  200\n"
     ]
    }
   ],
   "source": [
    "class Person:\n",
    "  def __init__(self, A, B):\n",
    "    self.A = A\n",
    "    self.B = B\n",
    "\n",
    "  def addition(self):\n",
    "    print(\"addition is = \", self.A + self.B)\n",
    "    \n",
    "  def sub(self):\n",
    "    print(\"Subtractiuon is = \", self.A - self.B)\n",
    "    \n",
    "  def mul(self):\n",
    "    print(\"Multiplication is = \", self.A * self.B)\n",
    "\n",
    "p1 = Person(10, 20)\n",
    "p1.addition()\n",
    "p1.sub()\n",
    "p1.mul()"
   ]
  },
  {
   "cell_type": "code",
   "execution_count": 33,
   "id": "013e4420",
   "metadata": {},
   "outputs": [
    {
     "name": "stdout",
     "output_type": "stream",
     "text": [
      "Area of ractangle is =  30\n"
     ]
    }
   ],
   "source": [
    "class Rectangle:\n",
    "  def __init__(self, length, width):\n",
    "    self.length = length\n",
    "    self.width = width\n",
    "    \n",
    "  def area(self):\n",
    "    print(\"Area of ractangle is = \", self.length * self.width)\n",
    "    \n",
    "r1=Rectangle(5,6)\n",
    "r1.area()"
   ]
  },
  {
   "cell_type": "code",
   "execution_count": 31,
   "id": "9eb173b8",
   "metadata": {},
   "outputs": [
    {
     "name": "stdout",
     "output_type": "stream",
     "text": [
      "18\n",
      "Person can vote\n"
     ]
    }
   ],
   "source": [
    "class Valid:\n",
    "  def __init__(self, age):\n",
    "    self.age = age\n",
    "    \n",
    "  def vote(self):\n",
    "    if self.age >= 18:\n",
    "        print(\"Person can vote\")\n",
    "    else:\n",
    "        print(\"Person cannot vote\")\n",
    "v=Valid(int(input()))\n",
    "v.vote()"
   ]
  },
  {
   "cell_type": "code",
   "execution_count": 42,
   "id": "3fe339df",
   "metadata": {},
   "outputs": [
    {
     "data": {
      "text/plain": [
       "'olleh'"
      ]
     },
     "execution_count": 42,
     "metadata": {},
     "output_type": "execute_result"
    }
   ],
   "source": [
    "class py_solution:\n",
    "  def __init__(self, s):\n",
    "    self.s=s\n",
    "    \n",
    "  def reverse_words(self):\n",
    "    return self.s[::-1]\n",
    "\n",
    "rw=py_solution(\"hello\")\n",
    "rw.reverse_words()"
   ]
  },
  {
   "cell_type": "code",
   "execution_count": null,
   "id": "bfbbf94a",
   "metadata": {},
   "outputs": [],
   "source": []
  }
 ],
 "metadata": {
  "kernelspec": {
   "display_name": "Python 3 (ipykernel)",
   "language": "python",
   "name": "python3"
  },
  "language_info": {
   "codemirror_mode": {
    "name": "ipython",
    "version": 3
   },
   "file_extension": ".py",
   "mimetype": "text/x-python",
   "name": "python",
   "nbconvert_exporter": "python",
   "pygments_lexer": "ipython3",
   "version": "3.9.7"
  }
 },
 "nbformat": 4,
 "nbformat_minor": 5
}
