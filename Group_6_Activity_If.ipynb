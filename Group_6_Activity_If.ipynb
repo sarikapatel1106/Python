{
 "cells": [
  {
   "cell_type": "code",
   "execution_count": 6,
   "id": "106637bf",
   "metadata": {},
   "outputs": [
    {
     "name": "stdout",
     "output_type": "stream",
     "text": [
      "Enter the number: 23\n",
      "You have entered 23 Which is NonZERO\n"
     ]
    }
   ],
   "source": [
    "#Write a PYTHON program that reads a value of n and check the number is zero or non zero value.\n",
    "\n",
    "n = int(input(\"Enter the number: \"))\n",
    "if(n == 0):\n",
    "    print(\"You have entered\",n, \"Which is ZERO\")\n",
    "else:\n",
    "    print(\"You have entered\",n, \"Which is NonZERO\")"
   ]
  },
  {
   "cell_type": "code",
   "execution_count": 1,
   "id": "ce1eb498",
   "metadata": {},
   "outputs": [
    {
     "name": "stdout",
     "output_type": "stream",
     "text": [
      "Enter first number: 55\n",
      "Enter second number:8\n",
      "55 is largerst number \n"
     ]
    }
   ],
   "source": [
    "#Write a PYTHON program to find a largest of two numbers.\n",
    "\n",
    "num1=int(input(\"Enter first number: \"))\n",
    "num2=int(input(\"Enter second number:\"))\n",
    "if(num1>num2):\n",
    "    print(num1, \"is largerst number \")\n",
    "elif(num1==num2):\n",
    "    print(\"Both numbers are same \")\n",
    "else:\n",
    "    print(num2, \"is largest number \")"
   ]
  },
  {
   "cell_type": "code",
   "execution_count": 11,
   "id": "fc9d1d3a",
   "metadata": {},
   "outputs": [
    {
     "name": "stdout",
     "output_type": "stream",
     "text": [
      "Enter the number: -8\n",
      "You have entered NEGATIVE number \n"
     ]
    }
   ],
   "source": [
    "#Write a PYTHON program that reads the number and check the no is positive or negative.\n",
    "\n",
    "n = int(input(\"Enter the number: \"))\n",
    "if(n>=0):\n",
    "    print(\"You have entered POSITIVE number \")\n",
    "else:\n",
    "    print(\"You have entered NEGATIVE number \")"
   ]
  },
  {
   "cell_type": "code",
   "execution_count": 3,
   "id": "0c67278b",
   "metadata": {},
   "outputs": [
    {
     "name": "stdout",
     "output_type": "stream",
     "text": [
      "Enter character: e\n",
      "e is vowel\n"
     ]
    }
   ],
   "source": [
    "#Write a PYTHON program to check entered character is vowel or consonant.\n",
    "\n",
    "ch=input(\"Enter character: \")\n",
    "if(ch=='a') or (ch=='A') or (ch=='e') or (ch=='E') or (ch=='i') or (ch=='I') or (ch=='o') or (ch=='O') or (ch=='u') or (ch=='U'):\n",
    "    print(ch, \"is vowel\")\n",
    "else:\n",
    "    print(ch,\"is consonant\")"
   ]
  },
  {
   "cell_type": "code",
   "execution_count": 4,
   "id": "ba13b427",
   "metadata": {},
   "outputs": [
    {
     "name": "stdout",
     "output_type": "stream",
     "text": [
      "Enter your score: 82\n",
      "Very Good!!\n"
     ]
    }
   ],
   "source": [
    "#Write a PYTHON program to evaluate the student performance\n",
    "#If % is >=90 then Excellent performance\n",
    "#If % is >=80 then  Very Good performance\n",
    "#If % is >=70 then Good performance\n",
    "#If % is >=60 then average performance\n",
    "#else Poor performance.\n",
    "\n",
    "score=int(input(\"Enter your score: \"))\n",
    "if(score>=90):\n",
    "    print(\"Excellent Performance!!!\")\n",
    "elif(score<90) and (score>=80):\n",
    "    print(\"Very Good!!\")\n",
    "elif(score<80) and (score>=70):\n",
    "    print(\"Good!\")\n",
    "elif(score<70) and (score>=60):\n",
    "    print(\"Average\")\n",
    "else:\n",
    "    print(\"Poor\")"
   ]
  },
  {
   "cell_type": "code",
   "execution_count": 5,
   "id": "b8015913",
   "metadata": {},
   "outputs": [
    {
     "name": "stdout",
     "output_type": "stream",
     "text": [
      "Enter first number: 54\n",
      "Enter second number: 64\n",
      "Enter third number: 23\n",
      "64 is largest number\n"
     ]
    }
   ],
   "source": [
    "#. Write a PYTHON program to find largest of three numbers.\n",
    "\n",
    "num1=int(input(\"Enter first number: \"))\n",
    "num2=int(input(\"Enter second number: \"))\n",
    "num3=int(input(\"Enter third number: \"))\n",
    "if(num1>num2)and(num1>num3):\n",
    "    print(num1,\"is largest number\")\n",
    "elif(num2>num1)and(num2>num3):\n",
    "    print(num2,\"is largest number\")\n",
    "elif(num1==num2)and (num2==num3)or(num3==1):\n",
    "    print(\"All the numbers are same\")\n",
    "else:\n",
    "    print(num3, \"is largest number\")"
   ]
  },
  {
   "cell_type": "code",
   "execution_count": 35,
   "id": "f37b9a2c",
   "metadata": {},
   "outputs": [
    {
     "name": "stdout",
     "output_type": "stream",
     "text": [
      "Enter first number: 23\n",
      "Enter second number: 45\n",
      "Enter third number: 2\n",
      "2 is smallest number\n"
     ]
    }
   ],
   "source": [
    "#Write a PYTHON program to find smallest of three numbers\n",
    "\n",
    "num1=int(input(\"Enter first number: \"))\n",
    "num2=int(input(\"Enter second number: \"))\n",
    "num3=int(input(\"Enter third number: \"))\n",
    "if(num1<num2)and(num1<num3):\n",
    "    print(num1,\"is smallest number\")\n",
    "elif(num2<num1)and(num2<num3):\n",
    "    print(num2,\"is smallest number\")\n",
    "elif(num1==num2)and (num2==num3)or(num3==1):\n",
    "    print(\"All the numbers are same\")\n",
    "else:\n",
    "    print(num3, \"is smallest number\")"
   ]
  },
  {
   "cell_type": "code",
   "execution_count": 6,
   "id": "bea145bf",
   "metadata": {},
   "outputs": [
    {
     "name": "stdout",
     "output_type": "stream",
     "text": [
      "Enter the number: 54\n",
      "54 is EVEN\n"
     ]
    }
   ],
   "source": [
    "#Write a PYTHON program to check whether number is even or odd.\n",
    "\n",
    "num =int(input(\"Enter the number: \"))\n",
    "if(num %2 == 0):\n",
    "    print(num,\"is EVEN\")\n",
    "else:\n",
    "    print(num, \"is ODD\")"
   ]
  },
  {
   "cell_type": "code",
   "execution_count": 54,
   "id": "eb19915d",
   "metadata": {},
   "outputs": [
    {
     "name": "stdout",
     "output_type": "stream",
     "text": [
      "Enter year: 1700\n",
      "1700 is not Leap Year\n"
     ]
    }
   ],
   "source": [
    "#Write a PYTHON program to check a year for leap year.\n",
    "\n",
    "year = int(input(\"Enter year: \"))\n",
    "if(year%400 == 0) or (year%100!=0) and (year%4==0):\n",
    "        print(year,\"is Leap Year\")        \n",
    "else:\n",
    "    print(year,\"is not Leap Year\")"
   ]
  },
  {
   "cell_type": "code",
   "execution_count": 7,
   "id": "502cd4f7",
   "metadata": {},
   "outputs": [
    {
     "name": "stdout",
     "output_type": "stream",
     "text": [
      "Plase enter your name: maulik\n",
      "Are you married? \n",
      " Y or N: n\n",
      "Are you male or female? \n",
      " F or M: m\n",
      "Please enter your age 23\n",
      "maulik is not insured\n"
     ]
    }
   ],
   "source": [
    "#A company insures its drivers in the following cases:\n",
    "#- If the driver is married.\n",
    "#- If the driver is unmarried, male and above 30 years of age.\n",
    "#- If the driver is unmarried, female and above 25 years of age.\n",
    "#In all the other cases, the driver is not insured.\n",
    "#If the marital status, sex and age of the driver are the inputs,\n",
    "#Write a PYTHON program to determine whether the driver is insured or not\n",
    "\n",
    "name= input(\"Plase enter your name: \")\n",
    "status=input(\"Are you married? \\n Y or N: \")\n",
    "if(status=='y') or (status=='Y'):\n",
    "    print(name, \"is insured\")\n",
    "else:\n",
    "    gender=input(\"Are you male or female? \\n F or M: \")\n",
    "    age=int(input(\"Please enter your age \"))\n",
    "\n",
    "    if((gender=='m') or (gender=='M')) and (age>30):\n",
    "        print(name, \"male is insured\")\n",
    "    elif((gender=='f')or (gender=='F')) and (age>25):\n",
    "        print(name,\"female is insured\")\n",
    "    else:\n",
    "        print(name,\"is not insured\")"
   ]
  },
  {
   "cell_type": "code",
   "execution_count": null,
   "id": "5db084a9",
   "metadata": {},
   "outputs": [],
   "source": []
  }
 ],
 "metadata": {
  "kernelspec": {
   "display_name": "Python 3 (ipykernel)",
   "language": "python",
   "name": "python3"
  },
  "language_info": {
   "codemirror_mode": {
    "name": "ipython",
    "version": 3
   },
   "file_extension": ".py",
   "mimetype": "text/x-python",
   "name": "python",
   "nbconvert_exporter": "python",
   "pygments_lexer": "ipython3",
   "version": "3.9.7"
  }
 },
 "nbformat": 4,
 "nbformat_minor": 5
}
