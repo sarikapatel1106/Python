{
 "cells": [
  {
   "cell_type": "code",
   "execution_count": 4,
   "id": "5c8fe36e",
   "metadata": {},
   "outputs": [
    {
     "data": {
      "text/plain": [
       "('Sarika', 'Leo', 'Vinay', 'Hinduja', 'Anjali', 'Anitha')"
      ]
     },
     "execution_count": 4,
     "metadata": {},
     "output_type": "execute_result"
    }
   ],
   "source": [
    "#Q1 Create a tuple with all participant names in the JDA program\n",
    "people = (\"Sarika\",\"Leo\",\"Vinay\",\"Hinduja\",\"Anjali\",\"Anitha\")\n",
    "people"
   ]
  },
  {
   "cell_type": "code",
   "execution_count": 28,
   "id": "b0780323",
   "metadata": {},
   "outputs": [
    {
     "data": {
      "text/plain": [
       "['Sarika', 'Leo', 'Vinay', 'Hinduja', 'Anjali', 'Anitha']"
      ]
     },
     "execution_count": 28,
     "metadata": {},
     "output_type": "execute_result"
    }
   ],
   "source": [
    "#Q2 Convert the tuple into a list called p_List\n",
    "p_List=list(people)\n",
    "p_List"
   ]
  },
  {
   "cell_type": "code",
   "execution_count": 29,
   "id": "65a2f052",
   "metadata": {},
   "outputs": [
    {
     "data": {
      "text/plain": [
       "6"
      ]
     },
     "execution_count": 29,
     "metadata": {},
     "output_type": "execute_result"
    }
   ],
   "source": [
    "#Q3 What is the length of your list\n",
    "len(p_List)"
   ]
  },
  {
   "cell_type": "code",
   "execution_count": 38,
   "id": "3ae81cba",
   "metadata": {},
   "outputs": [
    {
     "name": "stdout",
     "output_type": "stream",
     "text": [
      "Hinduja\n",
      "Anitha\n",
      "Vinay\n",
      "Anitha\n"
     ]
    }
   ],
   "source": [
    "#Q4 Find the values stored in indexes [3],[5],[14],[30],[38]\n",
    "print(p_List[3]) # in list and tuple index starts from 0\n",
    "print(p_List[5])\n",
    "    #print(p_List[14]) will print error \"list index outn of range because length of list is 6\"\n",
    "print(p_List[-4]) # when we put -index it will start from end\n",
    "    #print(p_List[-7]) will print error \"list index outn of range because length of list is 6\"\n",
    "print(p_List[-1])"
   ]
  },
  {
   "cell_type": "code",
   "execution_count": 41,
   "id": "35b25766",
   "metadata": {},
   "outputs": [
    {
     "data": {
      "text/plain": [
       "False"
      ]
     },
     "execution_count": 41,
     "metadata": {},
     "output_type": "execute_result"
    }
   ],
   "source": [
    "#Q5 Check if \"Sarah\" is in the list\n",
    "'Sarah' in p_List # \"Sarah\" is not in the list so it will give false as a output\n",
    "    #\"Sarika\" in p_List # will be true "
   ]
  },
  {
   "cell_type": "code",
   "execution_count": 42,
   "id": "db9dddd5",
   "metadata": {},
   "outputs": [
    {
     "data": {
      "text/plain": [
       "['Sarika', 'Leo', 'Vinay', 'Hinduja', 'Anjali', 'Anitha', 'Sarah']"
      ]
     },
     "execution_count": 42,
     "metadata": {},
     "output_type": "execute_result"
    }
   ],
   "source": [
    "#Q6 Add \"Sarah\" to your list\n",
    "p_List.append('Sarah') # 'Sarah' will be added in the end because append will add value in the end\n",
    "p_List"
   ]
  },
  {
   "cell_type": "code",
   "execution_count": 43,
   "id": "29658372",
   "metadata": {},
   "outputs": [
    {
     "data": {
      "text/plain": [
       "False"
      ]
     },
     "execution_count": 43,
     "metadata": {},
     "output_type": "execute_result"
    }
   ],
   "source": [
    "#Q7 Check if \"Bashir\" is in the list\n",
    "'Bashir' in p_List"
   ]
  },
  {
   "cell_type": "code",
   "execution_count": 44,
   "id": "5d73c0af",
   "metadata": {},
   "outputs": [
    {
     "data": {
      "text/plain": [
       "['Sarika', 'Leo', 'Vinay', 'Bashir', 'Hinduja', 'Anjali', 'Anitha', 'Sarah']"
      ]
     },
     "execution_count": 44,
     "metadata": {},
     "output_type": "execute_result"
    }
   ],
   "source": [
    "#Q9 Add \"Bashir\" to your list\n",
    "p_List.insert(3,'Bashir')\n",
    "p_List"
   ]
  },
  {
   "cell_type": "code",
   "execution_count": 45,
   "id": "383d2bd4",
   "metadata": {},
   "outputs": [
    {
     "data": {
      "text/plain": [
       "7"
      ]
     },
     "execution_count": 45,
     "metadata": {},
     "output_type": "execute_result"
    }
   ],
   "source": [
    "#Q10 Find the index of the element \"Sarah\" in the list\n",
    "p_List.index(\"Sarah\")"
   ]
  },
  {
   "cell_type": "code",
   "execution_count": 48,
   "id": "9c36cbdb",
   "metadata": {},
   "outputs": [
    {
     "data": {
      "text/plain": [
       "['Sarika',\n",
       " 'Leo',\n",
       " 'Vinay',\n",
       " 'Bashir',\n",
       " 'Hinduja',\n",
       " 'Anjali',\n",
       " 'Anitha',\n",
       " 'Instructor']"
      ]
     },
     "execution_count": 48,
     "metadata": {},
     "output_type": "execute_result"
    }
   ],
   "source": [
    "#Q11 Change the value of the index in Q10 from \"Sarah\" to \"Instructor\"\n",
    "p_List[7]=\"Instructor\"\n",
    "p_List"
   ]
  },
  {
   "cell_type": "code",
   "execution_count": 50,
   "id": "a5941e95",
   "metadata": {},
   "outputs": [
    {
     "data": {
      "text/plain": [
       "3"
      ]
     },
     "execution_count": 50,
     "metadata": {},
     "output_type": "execute_result"
    }
   ],
   "source": [
    "#Q12 Find the index of the element \"Bashir\" in the list\n",
    "p_List.index(\"Bashir\")"
   ]
  },
  {
   "cell_type": "code",
   "execution_count": 52,
   "id": "ca9b1a36",
   "metadata": {},
   "outputs": [
    {
     "data": {
      "text/plain": [
       "['Sarika',\n",
       " 'Leo',\n",
       " 'Vinay',\n",
       " 'Peer-Mentor',\n",
       " 'Hinduja',\n",
       " 'Anjali',\n",
       " 'Anitha',\n",
       " 'Instructor']"
      ]
     },
     "execution_count": 52,
     "metadata": {},
     "output_type": "execute_result"
    }
   ],
   "source": [
    "#Q13 Change the value of the index in Q12 from \"Bashir\" to \"Peer-Mentor\"\n",
    "p_List[3]= \"Peer-Mentor\"\n",
    "p_List"
   ]
  },
  {
   "cell_type": "code",
   "execution_count": null,
   "id": "82ae4d9d",
   "metadata": {},
   "outputs": [],
   "source": []
  }
 ],
 "metadata": {
  "kernelspec": {
   "display_name": "Python 3 (ipykernel)",
   "language": "python",
   "name": "python3"
  },
  "language_info": {
   "codemirror_mode": {
    "name": "ipython",
    "version": 3
   },
   "file_extension": ".py",
   "mimetype": "text/x-python",
   "name": "python",
   "nbconvert_exporter": "python",
   "pygments_lexer": "ipython3",
   "version": "3.9.7"
  }
 },
 "nbformat": 4,
 "nbformat_minor": 5
}
